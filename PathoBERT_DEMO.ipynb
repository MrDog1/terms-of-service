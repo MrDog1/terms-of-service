{
  "nbformat": 4,
  "nbformat_minor": 0,
  "metadata": {
    "colab": {
      "provenance": [],
      "gpuType": "T4",
      "authorship_tag": "ABX9TyMrPahxXKMHdSHGsu4UZmtr",
      "include_colab_link": true
    },
    "kernelspec": {
      "name": "python3",
      "display_name": "Python 3"
    },
    "language_info": {
      "name": "python"
    },
    "accelerator": "GPU",
    "widgets": {
      "application/vnd.jupyter.widget-state+json": {
        "1695434cbd9a4934a4e5b91b3ae3ded4": {
          "model_module": "@jupyter-widgets/controls",
          "model_name": "DropdownModel",
          "model_module_version": "1.5.0",
          "state": {
            "_dom_classes": [],
            "_model_module": "@jupyter-widgets/controls",
            "_model_module_version": "1.5.0",
            "_model_name": "DropdownModel",
            "_options_labels": [
              "intraductal papilloma with [MASK] and micro calcifications",
              "micro calcifications with usual ductal hyperplasia and no [MASK] lesions identified.",
              "invasive [MASK] carcinoma, grade 2, measuring 1.5 cm in greatest dimension.",
              "the lymph nodes are negative for [MASK] involvement.",
              "specimen shows ductal carcinoma in [MASK] (DCIS), intermediate nuclear grade."
            ],
            "_view_count": null,
            "_view_module": "@jupyter-widgets/controls",
            "_view_module_version": "1.5.0",
            "_view_name": "DropdownView",
            "description": "サンプル例:",
            "description_tooltip": null,
            "disabled": false,
            "index": 0,
            "layout": "IPY_MODEL_1ef490b2d5084f4187907e013a7923d1",
            "style": "IPY_MODEL_090472c188e34950af3066a49e0ebf31"
          }
        },
        "1ef490b2d5084f4187907e013a7923d1": {
          "model_module": "@jupyter-widgets/base",
          "model_name": "LayoutModel",
          "model_module_version": "1.2.0",
          "state": {
            "_model_module": "@jupyter-widgets/base",
            "_model_module_version": "1.2.0",
            "_model_name": "LayoutModel",
            "_view_count": null,
            "_view_module": "@jupyter-widgets/base",
            "_view_module_version": "1.2.0",
            "_view_name": "LayoutView",
            "align_content": null,
            "align_items": null,
            "align_self": null,
            "border": null,
            "bottom": null,
            "display": null,
            "flex": null,
            "flex_flow": null,
            "grid_area": null,
            "grid_auto_columns": null,
            "grid_auto_flow": null,
            "grid_auto_rows": null,
            "grid_column": null,
            "grid_gap": null,
            "grid_row": null,
            "grid_template_areas": null,
            "grid_template_columns": null,
            "grid_template_rows": null,
            "height": null,
            "justify_content": null,
            "justify_items": null,
            "left": null,
            "margin": null,
            "max_height": null,
            "max_width": null,
            "min_height": null,
            "min_width": null,
            "object_fit": null,
            "object_position": null,
            "order": null,
            "overflow": null,
            "overflow_x": null,
            "overflow_y": null,
            "padding": null,
            "right": null,
            "top": null,
            "visibility": null,
            "width": "100%"
          }
        },
        "090472c188e34950af3066a49e0ebf31": {
          "model_module": "@jupyter-widgets/controls",
          "model_name": "DescriptionStyleModel",
          "model_module_version": "1.5.0",
          "state": {
            "_model_module": "@jupyter-widgets/controls",
            "_model_module_version": "1.5.0",
            "_model_name": "DescriptionStyleModel",
            "_view_count": null,
            "_view_module": "@jupyter-widgets/base",
            "_view_module_version": "1.2.0",
            "_view_name": "StyleView",
            "description_width": ""
          }
        },
        "342ad2a250944b52995a0e6e6e181010": {
          "model_module": "@jupyter-widgets/controls",
          "model_name": "TextareaModel",
          "model_module_version": "1.5.0",
          "state": {
            "_dom_classes": [],
            "_model_module": "@jupyter-widgets/controls",
            "_model_module_version": "1.5.0",
            "_model_name": "TextareaModel",
            "_view_count": null,
            "_view_module": "@jupyter-widgets/controls",
            "_view_module_version": "1.5.0",
            "_view_name": "TextareaView",
            "continuous_update": true,
            "description": "テキスト:",
            "description_tooltip": null,
            "disabled": false,
            "layout": "IPY_MODEL_84ef53fc3ada4aa79837b3d0fde0e6c8",
            "placeholder": "[MASK]を含むテキストを入力",
            "rows": null,
            "style": "IPY_MODEL_6f4fd34aed3d47e0ab6d3a4bf27da07d",
            "value": "intraductal papilloma with [MASK] and micro calcifications"
          }
        },
        "84ef53fc3ada4aa79837b3d0fde0e6c8": {
          "model_module": "@jupyter-widgets/base",
          "model_name": "LayoutModel",
          "model_module_version": "1.2.0",
          "state": {
            "_model_module": "@jupyter-widgets/base",
            "_model_module_version": "1.2.0",
            "_model_name": "LayoutModel",
            "_view_count": null,
            "_view_module": "@jupyter-widgets/base",
            "_view_module_version": "1.2.0",
            "_view_name": "LayoutView",
            "align_content": null,
            "align_items": null,
            "align_self": null,
            "border": null,
            "bottom": null,
            "display": null,
            "flex": null,
            "flex_flow": null,
            "grid_area": null,
            "grid_auto_columns": null,
            "grid_auto_flow": null,
            "grid_auto_rows": null,
            "grid_column": null,
            "grid_gap": null,
            "grid_row": null,
            "grid_template_areas": null,
            "grid_template_columns": null,
            "grid_template_rows": null,
            "height": "80px",
            "justify_content": null,
            "justify_items": null,
            "left": null,
            "margin": null,
            "max_height": null,
            "max_width": null,
            "min_height": null,
            "min_width": null,
            "object_fit": null,
            "object_position": null,
            "order": null,
            "overflow": null,
            "overflow_x": null,
            "overflow_y": null,
            "padding": null,
            "right": null,
            "top": null,
            "visibility": null,
            "width": "100%"
          }
        },
        "6f4fd34aed3d47e0ab6d3a4bf27da07d": {
          "model_module": "@jupyter-widgets/controls",
          "model_name": "DescriptionStyleModel",
          "model_module_version": "1.5.0",
          "state": {
            "_model_module": "@jupyter-widgets/controls",
            "_model_module_version": "1.5.0",
            "_model_name": "DescriptionStyleModel",
            "_view_count": null,
            "_view_module": "@jupyter-widgets/base",
            "_view_module_version": "1.2.0",
            "_view_name": "StyleView",
            "description_width": ""
          }
        },
        "3d82251640dd4b1386f30c59a3a32e80": {
          "model_module": "@jupyter-widgets/controls",
          "model_name": "ButtonModel",
          "model_module_version": "1.5.0",
          "state": {
            "_dom_classes": [],
            "_model_module": "@jupyter-widgets/controls",
            "_model_module_version": "1.5.0",
            "_model_name": "ButtonModel",
            "_view_count": null,
            "_view_module": "@jupyter-widgets/controls",
            "_view_module_version": "1.5.0",
            "_view_name": "ButtonView",
            "button_style": "primary",
            "description": "予測実行",
            "disabled": false,
            "icon": "check",
            "layout": "IPY_MODEL_6718462b6bc64a7e942e2199ca1ad460",
            "style": "IPY_MODEL_0687e77ec4a647f8aa24b83827a6db49",
            "tooltip": "クリックして予測を実行"
          }
        },
        "6718462b6bc64a7e942e2199ca1ad460": {
          "model_module": "@jupyter-widgets/base",
          "model_name": "LayoutModel",
          "model_module_version": "1.2.0",
          "state": {
            "_model_module": "@jupyter-widgets/base",
            "_model_module_version": "1.2.0",
            "_model_name": "LayoutModel",
            "_view_count": null,
            "_view_module": "@jupyter-widgets/base",
            "_view_module_version": "1.2.0",
            "_view_name": "LayoutView",
            "align_content": null,
            "align_items": null,
            "align_self": null,
            "border": null,
            "bottom": null,
            "display": null,
            "flex": null,
            "flex_flow": null,
            "grid_area": null,
            "grid_auto_columns": null,
            "grid_auto_flow": null,
            "grid_auto_rows": null,
            "grid_column": null,
            "grid_gap": null,
            "grid_row": null,
            "grid_template_areas": null,
            "grid_template_columns": null,
            "grid_template_rows": null,
            "height": null,
            "justify_content": null,
            "justify_items": null,
            "left": null,
            "margin": null,
            "max_height": null,
            "max_width": null,
            "min_height": null,
            "min_width": null,
            "object_fit": null,
            "object_position": null,
            "order": null,
            "overflow": null,
            "overflow_x": null,
            "overflow_y": null,
            "padding": null,
            "right": null,
            "top": null,
            "visibility": null,
            "width": null
          }
        },
        "0687e77ec4a647f8aa24b83827a6db49": {
          "model_module": "@jupyter-widgets/controls",
          "model_name": "ButtonStyleModel",
          "model_module_version": "1.5.0",
          "state": {
            "_model_module": "@jupyter-widgets/controls",
            "_model_module_version": "1.5.0",
            "_model_name": "ButtonStyleModel",
            "_view_count": null,
            "_view_module": "@jupyter-widgets/base",
            "_view_module_version": "1.2.0",
            "_view_name": "StyleView",
            "button_color": null,
            "font_weight": ""
          }
        },
        "e930775fcc4849cdb076887e3048de76": {
          "model_module": "@jupyter-widgets/output",
          "model_name": "OutputModel",
          "model_module_version": "1.0.0",
          "state": {
            "_dom_classes": [],
            "_model_module": "@jupyter-widgets/output",
            "_model_module_version": "1.0.0",
            "_model_name": "OutputModel",
            "_view_count": null,
            "_view_module": "@jupyter-widgets/output",
            "_view_module_version": "1.0.0",
            "_view_name": "OutputView",
            "layout": "IPY_MODEL_6764a0210aab45aa823f046729957593",
            "msg_id": "",
            "outputs": [
              {
                "output_type": "stream",
                "name": "stdout",
                "text": [
                  "\n",
                  "予測結果:\n"
                ]
              },
              {
                "output_type": "display_data",
                "data": {
                  "text/plain": "          予測単語     スコア                                             予測テキスト\n0    sclerosis  0.7578  intraductal papilloma with sclerosis and micro...\n1     necrosis  0.0458  intraductal papilloma with necrosis and micro ...\n2       atypia  0.0332  intraductal papilloma with atypia and micro ca...\n3   infarction  0.0327  intraductal papilloma with infarction and micr...\n4  hyperplasia  0.0246  intraductal papilloma with hyperplasia and mic...",
                  "text/html": "\n  <div id=\"df-f7d849fd-5e87-4fe5-aa53-a0f430678616\" class=\"colab-df-container\">\n    <div>\n<style scoped>\n    .dataframe tbody tr th:only-of-type {\n        vertical-align: middle;\n    }\n\n    .dataframe tbody tr th {\n        vertical-align: top;\n    }\n\n    .dataframe thead th {\n        text-align: right;\n    }\n</style>\n<table border=\"1\" class=\"dataframe\">\n  <thead>\n    <tr style=\"text-align: right;\">\n      <th></th>\n      <th>予測単語</th>\n      <th>スコア</th>\n      <th>予測テキスト</th>\n    </tr>\n  </thead>\n  <tbody>\n    <tr>\n      <th>0</th>\n      <td>sclerosis</td>\n      <td>0.7578</td>\n      <td>intraductal papilloma with sclerosis and micro...</td>\n    </tr>\n    <tr>\n      <th>1</th>\n      <td>necrosis</td>\n      <td>0.0458</td>\n      <td>intraductal papilloma with necrosis and micro ...</td>\n    </tr>\n    <tr>\n      <th>2</th>\n      <td>atypia</td>\n      <td>0.0332</td>\n      <td>intraductal papilloma with atypia and micro ca...</td>\n    </tr>\n    <tr>\n      <th>3</th>\n      <td>infarction</td>\n      <td>0.0327</td>\n      <td>intraductal papilloma with infarction and micr...</td>\n    </tr>\n    <tr>\n      <th>4</th>\n      <td>hyperplasia</td>\n      <td>0.0246</td>\n      <td>intraductal papilloma with hyperplasia and mic...</td>\n    </tr>\n  </tbody>\n</table>\n</div>\n    <div class=\"colab-df-buttons\">\n\n  <div class=\"colab-df-container\">\n    <button class=\"colab-df-convert\" onclick=\"convertToInteractive('df-f7d849fd-5e87-4fe5-aa53-a0f430678616')\"\n            title=\"Convert this dataframe to an interactive table.\"\n            style=\"display:none;\">\n\n  <svg xmlns=\"http://www.w3.org/2000/svg\" height=\"24px\" viewBox=\"0 -960 960 960\">\n    <path d=\"M120-120v-720h720v720H120Zm60-500h600v-160H180v160Zm220 220h160v-160H400v160Zm0 220h160v-160H400v160ZM180-400h160v-160H180v160Zm440 0h160v-160H620v160ZM180-180h160v-160H180v160Zm440 0h160v-160H620v160Z\"/>\n  </svg>\n    </button>\n\n  <style>\n    .colab-df-container {\n      display:flex;\n      gap: 12px;\n    }\n\n    .colab-df-convert {\n      background-color: #E8F0FE;\n      border: none;\n      border-radius: 50%;\n      cursor: pointer;\n      display: none;\n      fill: #1967D2;\n      height: 32px;\n      padding: 0 0 0 0;\n      width: 32px;\n    }\n\n    .colab-df-convert:hover {\n      background-color: #E2EBFA;\n      box-shadow: 0px 1px 2px rgba(60, 64, 67, 0.3), 0px 1px 3px 1px rgba(60, 64, 67, 0.15);\n      fill: #174EA6;\n    }\n\n    .colab-df-buttons div {\n      margin-bottom: 4px;\n    }\n\n    [theme=dark] .colab-df-convert {\n      background-color: #3B4455;\n      fill: #D2E3FC;\n    }\n\n    [theme=dark] .colab-df-convert:hover {\n      background-color: #434B5C;\n      box-shadow: 0px 1px 3px 1px rgba(0, 0, 0, 0.15);\n      filter: drop-shadow(0px 1px 2px rgba(0, 0, 0, 0.3));\n      fill: #FFFFFF;\n    }\n  </style>\n\n    <script>\n      const buttonEl =\n        document.querySelector('#df-f7d849fd-5e87-4fe5-aa53-a0f430678616 button.colab-df-convert');\n      buttonEl.style.display =\n        google.colab.kernel.accessAllowed ? 'block' : 'none';\n\n      async function convertToInteractive(key) {\n        const element = document.querySelector('#df-f7d849fd-5e87-4fe5-aa53-a0f430678616');\n        const dataTable =\n          await google.colab.kernel.invokeFunction('convertToInteractive',\n                                                    [key], {});\n        if (!dataTable) return;\n\n        const docLinkHtml = 'Like what you see? Visit the ' +\n          '<a target=\"_blank\" href=https://colab.research.google.com/notebooks/data_table.ipynb>data table notebook</a>'\n          + ' to learn more about interactive tables.';\n        element.innerHTML = '';\n        dataTable['output_type'] = 'display_data';\n        await google.colab.output.renderOutput(dataTable, element);\n        const docLink = document.createElement('div');\n        docLink.innerHTML = docLinkHtml;\n        element.appendChild(docLink);\n      }\n    </script>\n  </div>\n\n\n<div id=\"df-d367d91d-316c-4778-b17a-d8cf15c473fb\">\n  <button class=\"colab-df-quickchart\" onclick=\"quickchart('df-d367d91d-316c-4778-b17a-d8cf15c473fb')\"\n            title=\"Suggest charts\"\n            style=\"display:none;\">\n\n<svg xmlns=\"http://www.w3.org/2000/svg\" height=\"24px\"viewBox=\"0 0 24 24\"\n     width=\"24px\">\n    <g>\n        <path d=\"M19 3H5c-1.1 0-2 .9-2 2v14c0 1.1.9 2 2 2h14c1.1 0 2-.9 2-2V5c0-1.1-.9-2-2-2zM9 17H7v-7h2v7zm4 0h-2V7h2v10zm4 0h-2v-4h2v4z\"/>\n    </g>\n</svg>\n  </button>\n\n<style>\n  .colab-df-quickchart {\n      --bg-color: #E8F0FE;\n      --fill-color: #1967D2;\n      --hover-bg-color: #E2EBFA;\n      --hover-fill-color: #174EA6;\n      --disabled-fill-color: #AAA;\n      --disabled-bg-color: #DDD;\n  }\n\n  [theme=dark] .colab-df-quickchart {\n      --bg-color: #3B4455;\n      --fill-color: #D2E3FC;\n      --hover-bg-color: #434B5C;\n      --hover-fill-color: #FFFFFF;\n      --disabled-bg-color: #3B4455;\n      --disabled-fill-color: #666;\n  }\n\n  .colab-df-quickchart {\n    background-color: var(--bg-color);\n    border: none;\n    border-radius: 50%;\n    cursor: pointer;\n    display: none;\n    fill: var(--fill-color);\n    height: 32px;\n    padding: 0;\n    width: 32px;\n  }\n\n  .colab-df-quickchart:hover {\n    background-color: var(--hover-bg-color);\n    box-shadow: 0 1px 2px rgba(60, 64, 67, 0.3), 0 1px 3px 1px rgba(60, 64, 67, 0.15);\n    fill: var(--button-hover-fill-color);\n  }\n\n  .colab-df-quickchart-complete:disabled,\n  .colab-df-quickchart-complete:disabled:hover {\n    background-color: var(--disabled-bg-color);\n    fill: var(--disabled-fill-color);\n    box-shadow: none;\n  }\n\n  .colab-df-spinner {\n    border: 2px solid var(--fill-color);\n    border-color: transparent;\n    border-bottom-color: var(--fill-color);\n    animation:\n      spin 1s steps(1) infinite;\n  }\n\n  @keyframes spin {\n    0% {\n      border-color: transparent;\n      border-bottom-color: var(--fill-color);\n      border-left-color: var(--fill-color);\n    }\n    20% {\n      border-color: transparent;\n      border-left-color: var(--fill-color);\n      border-top-color: var(--fill-color);\n    }\n    30% {\n      border-color: transparent;\n      border-left-color: var(--fill-color);\n      border-top-color: var(--fill-color);\n      border-right-color: var(--fill-color);\n    }\n    40% {\n      border-color: transparent;\n      border-right-color: var(--fill-color);\n      border-top-color: var(--fill-color);\n    }\n    60% {\n      border-color: transparent;\n      border-right-color: var(--fill-color);\n    }\n    80% {\n      border-color: transparent;\n      border-right-color: var(--fill-color);\n      border-bottom-color: var(--fill-color);\n    }\n    90% {\n      border-color: transparent;\n      border-bottom-color: var(--fill-color);\n    }\n  }\n</style>\n\n  <script>\n    async function quickchart(key) {\n      const quickchartButtonEl =\n        document.querySelector('#' + key + ' button');\n      quickchartButtonEl.disabled = true;  // To prevent multiple clicks.\n      quickchartButtonEl.classList.add('colab-df-spinner');\n      try {\n        const charts = await google.colab.kernel.invokeFunction(\n            'suggestCharts', [key], {});\n      } catch (error) {\n        console.error('Error during call to suggestCharts:', error);\n      }\n      quickchartButtonEl.classList.remove('colab-df-spinner');\n      quickchartButtonEl.classList.add('colab-df-quickchart-complete');\n    }\n    (() => {\n      let quickchartButtonEl =\n        document.querySelector('#df-d367d91d-316c-4778-b17a-d8cf15c473fb button');\n      quickchartButtonEl.style.display =\n        google.colab.kernel.accessAllowed ? 'block' : 'none';\n    })();\n  </script>\n</div>\n\n    </div>\n  </div>\n",
                  "application/vnd.google.colaboratory.intrinsic+json": {
                    "type": "dataframe",
                    "summary": "{\n  \"name\": \"explore_vocab(\\\"carcin\\\", 10)  # \\\"carcinoma\\\"\\u95a2\\u9023\\u306e\\u5358\\u8a9e\\u3092\\u63a2\\u7d22\",\n  \"rows\": 5,\n  \"fields\": [\n    {\n      \"column\": \"\\u4e88\\u6e2c\\u5358\\u8a9e\",\n      \"properties\": {\n        \"dtype\": \"string\",\n        \"num_unique_values\": 5,\n        \"samples\": [\n          \"necrosis\",\n          \"hyperplasia\",\n          \"atypia\"\n        ],\n        \"semantic_type\": \"\",\n        \"description\": \"\"\n      }\n    },\n    {\n      \"column\": \"\\u30b9\\u30b3\\u30a2\",\n      \"properties\": {\n        \"dtype\": \"string\",\n        \"num_unique_values\": 5,\n        \"samples\": [\n          \"0.0458\",\n          \"0.0246\",\n          \"0.0332\"\n        ],\n        \"semantic_type\": \"\",\n        \"description\": \"\"\n      }\n    },\n    {\n      \"column\": \"\\u4e88\\u6e2c\\u30c6\\u30ad\\u30b9\\u30c8\",\n      \"properties\": {\n        \"dtype\": \"string\",\n        \"num_unique_values\": 5,\n        \"samples\": [\n          \"intraductal papilloma with necrosis and micro calcifications\",\n          \"intraductal papilloma with hyperplasia and micro calcifications\",\n          \"intraductal papilloma with atypia and micro calcifications\"\n        ],\n        \"semantic_type\": \"\",\n        \"description\": \"\"\n      }\n    }\n  ]\n}"
                  }
                },
                "metadata": {}
              }
            ]
          }
        },
        "6764a0210aab45aa823f046729957593": {
          "model_module": "@jupyter-widgets/base",
          "model_name": "LayoutModel",
          "model_module_version": "1.2.0",
          "state": {
            "_model_module": "@jupyter-widgets/base",
            "_model_module_version": "1.2.0",
            "_model_name": "LayoutModel",
            "_view_count": null,
            "_view_module": "@jupyter-widgets/base",
            "_view_module_version": "1.2.0",
            "_view_name": "LayoutView",
            "align_content": null,
            "align_items": null,
            "align_self": null,
            "border": null,
            "bottom": null,
            "display": null,
            "flex": null,
            "flex_flow": null,
            "grid_area": null,
            "grid_auto_columns": null,
            "grid_auto_flow": null,
            "grid_auto_rows": null,
            "grid_column": null,
            "grid_gap": null,
            "grid_row": null,
            "grid_template_areas": null,
            "grid_template_columns": null,
            "grid_template_rows": null,
            "height": null,
            "justify_content": null,
            "justify_items": null,
            "left": null,
            "margin": null,
            "max_height": null,
            "max_width": null,
            "min_height": null,
            "min_width": null,
            "object_fit": null,
            "object_position": null,
            "order": null,
            "overflow": null,
            "overflow_x": null,
            "overflow_y": null,
            "padding": null,
            "right": null,
            "top": null,
            "visibility": null,
            "width": null
          }
        }
      }
    }
  },
  "cells": [
    {
      "cell_type": "markdown",
      "metadata": {
        "id": "view-in-github",
        "colab_type": "text"
      },
      "source": [
        "<a href=\"https://colab.research.google.com/github/MrDog1/terms-of-service/blob/main/PathoBERT_DEMO.ipynb\" target=\"_parent\"><img src=\"https://colab.research.google.com/assets/colab-badge.svg\" alt=\"Open In Colab\"/></a>"
      ]
    },
    {
      "cell_type": "code",
      "execution_count": null,
      "metadata": {
        "colab": {
          "base_uri": "https://localhost:8080/",
          "height": 1000,
          "referenced_widgets": [
            "1695434cbd9a4934a4e5b91b3ae3ded4",
            "1ef490b2d5084f4187907e013a7923d1",
            "090472c188e34950af3066a49e0ebf31",
            "342ad2a250944b52995a0e6e6e181010",
            "84ef53fc3ada4aa79837b3d0fde0e6c8",
            "6f4fd34aed3d47e0ab6d3a4bf27da07d",
            "3d82251640dd4b1386f30c59a3a32e80",
            "6718462b6bc64a7e942e2199ca1ad460",
            "0687e77ec4a647f8aa24b83827a6db49",
            "e930775fcc4849cdb076887e3048de76",
            "6764a0210aab45aa823f046729957593"
          ]
        },
        "id": "KKnvZnMC4M5b",
        "outputId": "79f13150-f76b-4555-8cb8-fd7793ea7ffb"
      },
      "outputs": [
        {
          "output_type": "stream",
          "name": "stdout",
          "text": [
            "================================================================================\n",
            "PathologyBERT デモ\n",
            "================================================================================\n",
            "このノートブックでは、病理学に特化した事前学習モデル「PathologyBERT」を試すことができます。\n",
            "テキスト内の単語を「[MASK]」でマスクすると、モデルがその部分に適切な単語を予測します。\n",
            "================================================================================\n",
            "モデルを読み込んでいます...\n"
          ]
        },
        {
          "output_type": "stream",
          "name": "stderr",
          "text": [
            "Device set to use cuda:0\n"
          ]
        },
        {
          "output_type": "stream",
          "name": "stdout",
          "text": [
            "モデルの読み込みが完了しました。\n",
            "\n",
            "サンプル例から選択するか、カスタムテキストを入力してください:\n"
          ]
        },
        {
          "output_type": "display_data",
          "data": {
            "text/plain": [
              "Dropdown(description='サンプル例:', layout=Layout(width='100%'), options=('intraductal papilloma with [MASK] and mi…"
            ],
            "application/vnd.jupyter.widget-view+json": {
              "version_major": 2,
              "version_minor": 0,
              "model_id": "1695434cbd9a4934a4e5b91b3ae3ded4"
            }
          },
          "metadata": {}
        },
        {
          "output_type": "display_data",
          "data": {
            "text/plain": [
              "Textarea(value='intraductal papilloma with [MASK] and micro calcifications', description='テキスト:', layout=Layou…"
            ],
            "application/vnd.jupyter.widget-view+json": {
              "version_major": 2,
              "version_minor": 0,
              "model_id": "342ad2a250944b52995a0e6e6e181010"
            }
          },
          "metadata": {}
        },
        {
          "output_type": "display_data",
          "data": {
            "text/plain": [
              "Button(button_style='primary', description='予測実行', icon='check', style=ButtonStyle(), tooltip='クリックして予測を実行')"
            ],
            "application/vnd.jupyter.widget-view+json": {
              "version_major": 2,
              "version_minor": 0,
              "model_id": "3d82251640dd4b1386f30c59a3a32e80"
            }
          },
          "metadata": {}
        },
        {
          "output_type": "display_data",
          "data": {
            "text/plain": [
              "Output()"
            ],
            "application/vnd.jupyter.widget-view+json": {
              "version_major": 2,
              "version_minor": 0,
              "model_id": "e930775fcc4849cdb076887e3048de76"
            }
          },
          "metadata": {}
        },
        {
          "output_type": "stream",
          "name": "stdout",
          "text": [
            "\n",
            "================================================================================\n",
            "PathologyBERTについて\n",
            "================================================================================\n",
            "PathologyBERTは病理組織標本レポートで訓練された事前学習済みマスク言語モデルです。\n",
            "一般的なBERTモデルとは異なり、病理学に特化した語彙を持ち、特に乳腺病理に関する\n",
            "専門用語の理解に優れています。\n",
            "\n",
            "詳細については、開発者のGitHubリポジトリを参照してください:\n",
            "https://github.com/thiagosantos1/HCSBC\n",
            "================================================================================\n",
            "\n",
            "病理学の専門用語を探索:\n",
            "'carcin'に一致する語彙例 (上位10件):\n",
            "  1. carcinoma\n",
            "  2. adenocarcinoma\n",
            "  3. carcinomas\n",
            "  4. carcin\n",
            "  5. carcinoid\n",
            "  6. microcarcinoma\n",
            "  7. carcinosarcoma\n",
            "  8. comedocarcinoma\n",
            "  9. cholangiocarcinoma\n",
            "  10. carcinom\n"
          ]
        },
        {
          "output_type": "execute_result",
          "data": {
            "text/plain": [
              "['carcinoma',\n",
              " 'adenocarcinoma',\n",
              " 'carcinomas',\n",
              " 'carcin',\n",
              " 'carcinoid',\n",
              " 'microcarcinoma',\n",
              " 'carcinosarcoma',\n",
              " 'comedocarcinoma',\n",
              " 'cholangiocarcinoma',\n",
              " 'carcinom',\n",
              " 'carcinomatous',\n",
              " 'microcarcinomas']"
            ]
          },
          "metadata": {},
          "execution_count": 2
        }
      ],
      "source": [
        "# PathologyBERT Google Colab デモ\n",
        "# 必要なライブラリをインストール\n",
        "!pip install transformers -q\n",
        "\n",
        "import torch\n",
        "from transformers import AutoTokenizer, AutoModelForMaskedLM, pipeline\n",
        "from google.colab import widgets\n",
        "import ipywidgets as widgets\n",
        "from IPython.display import display, HTML, clear_output\n",
        "import pandas as pd\n",
        "\n",
        "# タイトルとイントロダクション表示\n",
        "print(\"=\"*80)\n",
        "print(\"PathologyBERT デモ\")\n",
        "print(\"=\"*80)\n",
        "print(\"このノートブックでは、病理学に特化した事前学習モデル「PathologyBERT」を試すことができます。\")\n",
        "print(\"テキスト内の単語を「[MASK]」でマスクすると、モデルがその部分に適切な単語を予測します。\")\n",
        "print(\"=\"*80)\n",
        "\n",
        "# モデルとトークナイザーの読み込み\n",
        "print(\"モデルを読み込んでいます...\")\n",
        "try:\n",
        "    tokenizer = AutoTokenizer.from_pretrained(\"tsantos/PathologyBERT\")\n",
        "    model = AutoModelForMaskedLM.from_pretrained(\"tsantos/PathologyBERT\")\n",
        "    nlp = pipeline('fill-mask', model=model, tokenizer=tokenizer)\n",
        "    print(\"モデルの読み込みが完了しました。\")\n",
        "except Exception as e:\n",
        "    print(f\"モデルの読み込みエラー: {e}\")\n",
        "\n",
        "# サンプル例\n",
        "examples = [\n",
        "    \"intraductal papilloma with [MASK] and micro calcifications\",\n",
        "    \"micro calcifications with usual ductal hyperplasia and no [MASK] lesions identified.\",\n",
        "    \"invasive [MASK] carcinoma, grade 2, measuring 1.5 cm in greatest dimension.\",\n",
        "    \"the lymph nodes are negative for [MASK] involvement.\",\n",
        "    \"specimen shows ductal carcinoma in [MASK] (DCIS), intermediate nuclear grade.\"\n",
        "]\n",
        "\n",
        "# 予測関数の定義\n",
        "def predict(text):\n",
        "    if \"[MASK]\" not in text:\n",
        "        print(\"警告: テキスト内に '[MASK]' を含めてください\")\n",
        "        return\n",
        "\n",
        "    try:\n",
        "        results = nlp(text)\n",
        "\n",
        "        # 結果の表示\n",
        "        print(\"\\n予測結果:\")\n",
        "\n",
        "        # データフレームで結果を表示\n",
        "        result_data = {\n",
        "            \"予測単語\": [],\n",
        "            \"スコア\": [],\n",
        "            \"予測テキスト\": []\n",
        "        }\n",
        "\n",
        "        for result in results:\n",
        "            result_data[\"予測単語\"].append(result[\"token_str\"])\n",
        "            result_data[\"スコア\"].append(f\"{result['score']:.4f}\")\n",
        "            result_data[\"予測テキスト\"].append(result[\"sequence\"].replace(\"[CLS] \", \"\").replace(\" [SEP]\", \"\"))\n",
        "\n",
        "        df = pd.DataFrame(result_data)\n",
        "        display(df)\n",
        "\n",
        "    except Exception as e:\n",
        "        print(f\"予測エラー: {e}\")\n",
        "\n",
        "# 対話型ウィジェットの作成\n",
        "dropdown = widgets.Dropdown(\n",
        "    options=examples,\n",
        "    description='サンプル例:',\n",
        "    disabled=False,\n",
        "    layout=widgets.Layout(width='100%')\n",
        ")\n",
        "\n",
        "text_input = widgets.Textarea(\n",
        "    value=examples[0],\n",
        "    placeholder='[MASK]を含むテキストを入力',\n",
        "    description='テキスト:',\n",
        "    disabled=False,\n",
        "    layout=widgets.Layout(width='100%', height='80px')\n",
        ")\n",
        "\n",
        "button = widgets.Button(\n",
        "    description='予測実行',\n",
        "    disabled=False,\n",
        "    button_style='primary',\n",
        "    tooltip='クリックして予測を実行',\n",
        "    icon='check'\n",
        ")\n",
        "\n",
        "output = widgets.Output()\n",
        "\n",
        "# ドロップダウンの値変更時の処理\n",
        "def on_dropdown_change(change):\n",
        "    if change['type'] == 'change' and change['name'] == 'value':\n",
        "        text_input.value = change['new']\n",
        "\n",
        "dropdown.observe(on_dropdown_change)\n",
        "\n",
        "# ボタンクリック時の処理\n",
        "def on_button_clicked(b):\n",
        "    with output:\n",
        "        clear_output()\n",
        "        predict(text_input.value)\n",
        "\n",
        "button.on_click(on_button_clicked)\n",
        "\n",
        "# ウィジェットの表示\n",
        "print(\"\\nサンプル例から選択するか、カスタムテキストを入力してください:\")\n",
        "display(dropdown)\n",
        "display(text_input)\n",
        "display(button)\n",
        "display(output)\n",
        "\n",
        "# 初回実行例\n",
        "with output:\n",
        "    predict(examples[0])\n",
        "\n",
        "print(\"\\n\"+\"=\"*80)\n",
        "print(\"PathologyBERTについて\")\n",
        "print(\"=\"*80)\n",
        "print(\"PathologyBERTは病理組織標本レポートで訓練された事前学習済みマスク言語モデルです。\")\n",
        "print(\"一般的なBERTモデルとは異なり、病理学に特化した語彙を持ち、特に乳腺病理に関する\")\n",
        "print(\"専門用語の理解に優れています。\")\n",
        "print(\"\\n詳細については、開発者のGitHubリポジトリを参照してください:\")\n",
        "print(\"https://github.com/thiagosantos1/HCSBC\")\n",
        "print(\"=\"*80)\n",
        "\n",
        "# ボーナス: モデルの語彙を探索する関数\n",
        "def explore_vocab(query, top_n=10):\n",
        "    \"\"\"モデルの語彙から特定のクエリに一致する単語を検索\"\"\"\n",
        "    matches = []\n",
        "    for i in range(len(tokenizer.vocab)):\n",
        "        token = tokenizer.convert_ids_to_tokens(i)\n",
        "        if query.lower() in token.lower() and not token.startswith('##'):\n",
        "            matches.append(token)\n",
        "\n",
        "    print(f\"'{query}'に一致する語彙例 (上位{min(top_n, len(matches))}件):\")\n",
        "    for i, token in enumerate(matches[:top_n]):\n",
        "        print(f\"  {i+1}. {token}\")\n",
        "\n",
        "    return matches\n",
        "\n",
        "# 使用例\n",
        "print(\"\\n病理学の専門用語を探索:\")\n",
        "explore_vocab(\"carcin\", 10)  # \"carcinoma\"関連の単語を探索"
      ]
    }
  ]
}